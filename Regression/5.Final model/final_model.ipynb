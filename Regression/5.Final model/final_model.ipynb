{
 "cells": [
  {
   "cell_type": "markdown",
   "id": "77f71a01-819e-42da-ace8-f300d3d16e2d",
   "metadata": {},
   "source": [
    "### Importing the pickle module"
   ]
  },
  {
   "cell_type": "code",
   "execution_count": 1,
   "id": "2c67c50e-e544-4a42-91e7-9f00d462e7d0",
   "metadata": {},
   "outputs": [],
   "source": [
    "# Importing the pickle module to load the saved model\n",
    "import pickle"
   ]
  },
  {
   "cell_type": "markdown",
   "id": "171f5cbc-5964-41f7-a6fe-6efc3a236a4d",
   "metadata": {},
   "source": [
    "### Loading the saved model"
   ]
  },
  {
   "cell_type": "code",
   "execution_count": 2,
   "id": "cc387472-d313-4519-a014-d7dc7580f4cb",
   "metadata": {},
   "outputs": [],
   "source": [
    "# Loading the trained Simple linear regression model from a .sav file\n",
    "load_model=pickle.load(open(\"linreg_model.sav\",'rb'))"
   ]
  },
  {
   "cell_type": "code",
   "execution_count": 10,
   "id": "639af1b5-3c25-46bd-9847-c12a05967e0d",
   "metadata": {},
   "outputs": [],
   "source": [
    "result=load_model.predict([[18, 76,0,0,1]])  #Selected features: ['age', 'bmi', 'children', 'smoker_yes', 'region_southeast']"
   ]
  },
  {
   "cell_type": "code",
   "execution_count": 11,
   "id": "9f4edb98-c32f-41e3-a765-75370e074c8e",
   "metadata": {},
   "outputs": [
    {
     "data": {
      "text/plain": [
       "array([17428.55633205])"
      ]
     },
     "execution_count": 11,
     "metadata": {},
     "output_type": "execute_result"
    }
   ],
   "source": [
    "result"
   ]
  },
  {
   "cell_type": "code",
   "execution_count": null,
   "id": "f6363ed4-365d-435a-83b3-34bde7c56cb6",
   "metadata": {},
   "outputs": [],
   "source": []
  }
 ],
 "metadata": {
  "kernelspec": {
   "display_name": "Python (numpy_env)",
   "language": "python",
   "name": "numpy_env"
  },
  "language_info": {
   "codemirror_mode": {
    "name": "ipython",
    "version": 3
   },
   "file_extension": ".py",
   "mimetype": "text/x-python",
   "name": "python",
   "nbconvert_exporter": "python",
   "pygments_lexer": "ipython3",
   "version": "3.10.16"
  }
 },
 "nbformat": 4,
 "nbformat_minor": 5
}
