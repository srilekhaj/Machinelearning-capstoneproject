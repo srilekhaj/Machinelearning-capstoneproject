{
 "cells": [
  {
   "cell_type": "code",
   "execution_count": 1,
   "id": "67453025-620a-46d1-85c1-ee2cb0213565",
   "metadata": {},
   "outputs": [],
   "source": [
    "import pandas as pd"
   ]
  },
  {
   "cell_type": "code",
   "execution_count": 2,
   "id": "019f62d0-664f-43cd-be2a-2eeb3c3972b8",
   "metadata": {},
   "outputs": [
    {
     "data": {
      "text/html": [
       "<div>\n",
       "<style scoped>\n",
       "    .dataframe tbody tr th:only-of-type {\n",
       "        vertical-align: middle;\n",
       "    }\n",
       "\n",
       "    .dataframe tbody tr th {\n",
       "        vertical-align: top;\n",
       "    }\n",
       "\n",
       "    .dataframe thead th {\n",
       "        text-align: right;\n",
       "    }\n",
       "</style>\n",
       "<table border=\"1\" class=\"dataframe\">\n",
       "  <thead>\n",
       "    <tr style=\"text-align: right;\">\n",
       "      <th></th>\n",
       "      <th>age</th>\n",
       "      <th>sex</th>\n",
       "      <th>bmi</th>\n",
       "      <th>children</th>\n",
       "      <th>smoker</th>\n",
       "      <th>region</th>\n",
       "      <th>charges</th>\n",
       "    </tr>\n",
       "  </thead>\n",
       "  <tbody>\n",
       "    <tr>\n",
       "      <th>0</th>\n",
       "      <td>19</td>\n",
       "      <td>female</td>\n",
       "      <td>27.900</td>\n",
       "      <td>0</td>\n",
       "      <td>yes</td>\n",
       "      <td>southwest</td>\n",
       "      <td>16884.92400</td>\n",
       "    </tr>\n",
       "    <tr>\n",
       "      <th>1</th>\n",
       "      <td>18</td>\n",
       "      <td>male</td>\n",
       "      <td>33.770</td>\n",
       "      <td>1</td>\n",
       "      <td>no</td>\n",
       "      <td>southeast</td>\n",
       "      <td>1725.55230</td>\n",
       "    </tr>\n",
       "    <tr>\n",
       "      <th>2</th>\n",
       "      <td>28</td>\n",
       "      <td>male</td>\n",
       "      <td>33.000</td>\n",
       "      <td>3</td>\n",
       "      <td>no</td>\n",
       "      <td>southeast</td>\n",
       "      <td>4449.46200</td>\n",
       "    </tr>\n",
       "    <tr>\n",
       "      <th>3</th>\n",
       "      <td>33</td>\n",
       "      <td>male</td>\n",
       "      <td>22.705</td>\n",
       "      <td>0</td>\n",
       "      <td>no</td>\n",
       "      <td>northwest</td>\n",
       "      <td>21984.47061</td>\n",
       "    </tr>\n",
       "    <tr>\n",
       "      <th>4</th>\n",
       "      <td>32</td>\n",
       "      <td>male</td>\n",
       "      <td>28.880</td>\n",
       "      <td>0</td>\n",
       "      <td>no</td>\n",
       "      <td>northwest</td>\n",
       "      <td>3866.85520</td>\n",
       "    </tr>\n",
       "    <tr>\n",
       "      <th>...</th>\n",
       "      <td>...</td>\n",
       "      <td>...</td>\n",
       "      <td>...</td>\n",
       "      <td>...</td>\n",
       "      <td>...</td>\n",
       "      <td>...</td>\n",
       "      <td>...</td>\n",
       "    </tr>\n",
       "    <tr>\n",
       "      <th>1333</th>\n",
       "      <td>50</td>\n",
       "      <td>male</td>\n",
       "      <td>30.970</td>\n",
       "      <td>3</td>\n",
       "      <td>no</td>\n",
       "      <td>northwest</td>\n",
       "      <td>10600.54830</td>\n",
       "    </tr>\n",
       "    <tr>\n",
       "      <th>1334</th>\n",
       "      <td>18</td>\n",
       "      <td>female</td>\n",
       "      <td>31.920</td>\n",
       "      <td>0</td>\n",
       "      <td>no</td>\n",
       "      <td>northeast</td>\n",
       "      <td>2205.98080</td>\n",
       "    </tr>\n",
       "    <tr>\n",
       "      <th>1335</th>\n",
       "      <td>18</td>\n",
       "      <td>female</td>\n",
       "      <td>36.850</td>\n",
       "      <td>0</td>\n",
       "      <td>no</td>\n",
       "      <td>southeast</td>\n",
       "      <td>1629.83350</td>\n",
       "    </tr>\n",
       "    <tr>\n",
       "      <th>1336</th>\n",
       "      <td>21</td>\n",
       "      <td>female</td>\n",
       "      <td>25.800</td>\n",
       "      <td>0</td>\n",
       "      <td>no</td>\n",
       "      <td>southwest</td>\n",
       "      <td>2007.94500</td>\n",
       "    </tr>\n",
       "    <tr>\n",
       "      <th>1337</th>\n",
       "      <td>61</td>\n",
       "      <td>female</td>\n",
       "      <td>29.070</td>\n",
       "      <td>0</td>\n",
       "      <td>yes</td>\n",
       "      <td>northwest</td>\n",
       "      <td>29141.36030</td>\n",
       "    </tr>\n",
       "  </tbody>\n",
       "</table>\n",
       "<p>1338 rows × 7 columns</p>\n",
       "</div>"
      ],
      "text/plain": [
       "      age     sex     bmi  children smoker     region      charges\n",
       "0      19  female  27.900         0    yes  southwest  16884.92400\n",
       "1      18    male  33.770         1     no  southeast   1725.55230\n",
       "2      28    male  33.000         3     no  southeast   4449.46200\n",
       "3      33    male  22.705         0     no  northwest  21984.47061\n",
       "4      32    male  28.880         0     no  northwest   3866.85520\n",
       "...   ...     ...     ...       ...    ...        ...          ...\n",
       "1333   50    male  30.970         3     no  northwest  10600.54830\n",
       "1334   18  female  31.920         0     no  northeast   2205.98080\n",
       "1335   18  female  36.850         0     no  southeast   1629.83350\n",
       "1336   21  female  25.800         0     no  southwest   2007.94500\n",
       "1337   61  female  29.070         0    yes  northwest  29141.36030\n",
       "\n",
       "[1338 rows x 7 columns]"
      ]
     },
     "execution_count": 2,
     "metadata": {},
     "output_type": "execute_result"
    }
   ],
   "source": [
    "dataset = pd.read_csv('insurance.csv')\n",
    "dataset"
   ]
  },
  {
   "cell_type": "code",
   "execution_count": 3,
   "id": "3a8b2671-1071-4508-adaa-2c5c7c5ca4e8",
   "metadata": {},
   "outputs": [
    {
     "data": {
      "text/plain": [
       "age         0\n",
       "sex         0\n",
       "bmi         0\n",
       "children    0\n",
       "smoker      0\n",
       "region      0\n",
       "charges     0\n",
       "dtype: int64"
      ]
     },
     "execution_count": 3,
     "metadata": {},
     "output_type": "execute_result"
    }
   ],
   "source": [
    "dataset.isna().sum()"
   ]
  },
  {
   "cell_type": "code",
   "execution_count": 24,
   "id": "ed6caee9-5aa2-4b94-a080-6a85751959ab",
   "metadata": {},
   "outputs": [
    {
     "data": {
      "text/html": [
       "<div>\n",
       "<style scoped>\n",
       "    .dataframe tbody tr th:only-of-type {\n",
       "        vertical-align: middle;\n",
       "    }\n",
       "\n",
       "    .dataframe tbody tr th {\n",
       "        vertical-align: top;\n",
       "    }\n",
       "\n",
       "    .dataframe thead th {\n",
       "        text-align: right;\n",
       "    }\n",
       "</style>\n",
       "<table border=\"1\" class=\"dataframe\">\n",
       "  <thead>\n",
       "    <tr style=\"text-align: right;\">\n",
       "      <th></th>\n",
       "      <th>age</th>\n",
       "      <th>bmi</th>\n",
       "      <th>children</th>\n",
       "      <th>charges</th>\n",
       "      <th>sex_male</th>\n",
       "      <th>smoker_yes</th>\n",
       "      <th>region_northwest</th>\n",
       "      <th>region_southeast</th>\n",
       "      <th>region_southwest</th>\n",
       "    </tr>\n",
       "  </thead>\n",
       "  <tbody>\n",
       "    <tr>\n",
       "      <th>0</th>\n",
       "      <td>19</td>\n",
       "      <td>27</td>\n",
       "      <td>0</td>\n",
       "      <td>16884</td>\n",
       "      <td>0</td>\n",
       "      <td>1</td>\n",
       "      <td>0</td>\n",
       "      <td>0</td>\n",
       "      <td>1</td>\n",
       "    </tr>\n",
       "    <tr>\n",
       "      <th>1</th>\n",
       "      <td>18</td>\n",
       "      <td>33</td>\n",
       "      <td>1</td>\n",
       "      <td>1725</td>\n",
       "      <td>1</td>\n",
       "      <td>0</td>\n",
       "      <td>0</td>\n",
       "      <td>1</td>\n",
       "      <td>0</td>\n",
       "    </tr>\n",
       "    <tr>\n",
       "      <th>2</th>\n",
       "      <td>28</td>\n",
       "      <td>33</td>\n",
       "      <td>3</td>\n",
       "      <td>4449</td>\n",
       "      <td>1</td>\n",
       "      <td>0</td>\n",
       "      <td>0</td>\n",
       "      <td>1</td>\n",
       "      <td>0</td>\n",
       "    </tr>\n",
       "    <tr>\n",
       "      <th>3</th>\n",
       "      <td>33</td>\n",
       "      <td>22</td>\n",
       "      <td>0</td>\n",
       "      <td>21984</td>\n",
       "      <td>1</td>\n",
       "      <td>0</td>\n",
       "      <td>1</td>\n",
       "      <td>0</td>\n",
       "      <td>0</td>\n",
       "    </tr>\n",
       "    <tr>\n",
       "      <th>4</th>\n",
       "      <td>32</td>\n",
       "      <td>28</td>\n",
       "      <td>0</td>\n",
       "      <td>3866</td>\n",
       "      <td>1</td>\n",
       "      <td>0</td>\n",
       "      <td>1</td>\n",
       "      <td>0</td>\n",
       "      <td>0</td>\n",
       "    </tr>\n",
       "    <tr>\n",
       "      <th>...</th>\n",
       "      <td>...</td>\n",
       "      <td>...</td>\n",
       "      <td>...</td>\n",
       "      <td>...</td>\n",
       "      <td>...</td>\n",
       "      <td>...</td>\n",
       "      <td>...</td>\n",
       "      <td>...</td>\n",
       "      <td>...</td>\n",
       "    </tr>\n",
       "    <tr>\n",
       "      <th>1333</th>\n",
       "      <td>50</td>\n",
       "      <td>30</td>\n",
       "      <td>3</td>\n",
       "      <td>10600</td>\n",
       "      <td>1</td>\n",
       "      <td>0</td>\n",
       "      <td>1</td>\n",
       "      <td>0</td>\n",
       "      <td>0</td>\n",
       "    </tr>\n",
       "    <tr>\n",
       "      <th>1334</th>\n",
       "      <td>18</td>\n",
       "      <td>31</td>\n",
       "      <td>0</td>\n",
       "      <td>2205</td>\n",
       "      <td>0</td>\n",
       "      <td>0</td>\n",
       "      <td>0</td>\n",
       "      <td>0</td>\n",
       "      <td>0</td>\n",
       "    </tr>\n",
       "    <tr>\n",
       "      <th>1335</th>\n",
       "      <td>18</td>\n",
       "      <td>36</td>\n",
       "      <td>0</td>\n",
       "      <td>1629</td>\n",
       "      <td>0</td>\n",
       "      <td>0</td>\n",
       "      <td>0</td>\n",
       "      <td>1</td>\n",
       "      <td>0</td>\n",
       "    </tr>\n",
       "    <tr>\n",
       "      <th>1336</th>\n",
       "      <td>21</td>\n",
       "      <td>25</td>\n",
       "      <td>0</td>\n",
       "      <td>2007</td>\n",
       "      <td>0</td>\n",
       "      <td>0</td>\n",
       "      <td>0</td>\n",
       "      <td>0</td>\n",
       "      <td>1</td>\n",
       "    </tr>\n",
       "    <tr>\n",
       "      <th>1337</th>\n",
       "      <td>61</td>\n",
       "      <td>29</td>\n",
       "      <td>0</td>\n",
       "      <td>29141</td>\n",
       "      <td>0</td>\n",
       "      <td>1</td>\n",
       "      <td>1</td>\n",
       "      <td>0</td>\n",
       "      <td>0</td>\n",
       "    </tr>\n",
       "  </tbody>\n",
       "</table>\n",
       "<p>1338 rows × 9 columns</p>\n",
       "</div>"
      ],
      "text/plain": [
       "      age  bmi  children  charges  sex_male  smoker_yes  region_northwest  \\\n",
       "0      19   27         0    16884         0           1                 0   \n",
       "1      18   33         1     1725         1           0                 0   \n",
       "2      28   33         3     4449         1           0                 0   \n",
       "3      33   22         0    21984         1           0                 1   \n",
       "4      32   28         0     3866         1           0                 1   \n",
       "...   ...  ...       ...      ...       ...         ...               ...   \n",
       "1333   50   30         3    10600         1           0                 1   \n",
       "1334   18   31         0     2205         0           0                 0   \n",
       "1335   18   36         0     1629         0           0                 0   \n",
       "1336   21   25         0     2007         0           0                 0   \n",
       "1337   61   29         0    29141         0           1                 1   \n",
       "\n",
       "      region_southeast  region_southwest  \n",
       "0                    0                 1  \n",
       "1                    1                 0  \n",
       "2                    1                 0  \n",
       "3                    0                 0  \n",
       "4                    0                 0  \n",
       "...                ...               ...  \n",
       "1333                 0                 0  \n",
       "1334                 0                 0  \n",
       "1335                 1                 0  \n",
       "1336                 0                 1  \n",
       "1337                 0                 0  \n",
       "\n",
       "[1338 rows x 9 columns]"
      ]
     },
     "execution_count": 24,
     "metadata": {},
     "output_type": "execute_result"
    }
   ],
   "source": [
    "dataset = pd.get_dummies(dataset,  drop_first=True).astype(int)\n",
    "dataset"
   ]
  },
  {
   "cell_type": "code",
   "execution_count": 25,
   "id": "34d7ca3e-5674-4636-b1a9-d596a093886f",
   "metadata": {},
   "outputs": [],
   "source": [
    "independent = dataset.drop('charges',axis=1) \n",
    "dependent = dataset['charges']"
   ]
  },
  {
   "cell_type": "code",
   "execution_count": 35,
   "id": "dd0f26a6-666a-4ef7-b31a-d76bc9714301",
   "metadata": {},
   "outputs": [
    {
     "data": {
      "text/plain": [
       "Index(['age', 'bmi', 'children', 'sex_male', 'smoker_yes', 'region_northwest',\n",
       "       'region_southeast', 'region_southwest'],\n",
       "      dtype='object')"
      ]
     },
     "execution_count": 35,
     "metadata": {},
     "output_type": "execute_result"
    }
   ],
   "source": [
    "independent.columns\n"
   ]
  },
  {
   "cell_type": "code",
   "execution_count": 26,
   "id": "64835196-7767-49b8-89e0-7f4cf587c723",
   "metadata": {},
   "outputs": [],
   "source": [
    "from sklearn.model_selection import KFold, cross_val_score\n",
    "from sklearn.linear_model import LinearRegression\n"
   ]
  },
  {
   "cell_type": "code",
   "execution_count": 27,
   "id": "7ea8a350-115c-4f88-9009-93b631b5618b",
   "metadata": {},
   "outputs": [],
   "source": [
    "kf = KFold(n_splits=5, shuffle=True, random_state=42)\n",
    "\n",
    "regressor = LinearRegression()\n",
    "\n",
    "# Perform cross-validation\n",
    "scores = cross_val_score(regressor,independent, dependent, cv=kf)\n",
    "\n"
   ]
  },
  {
   "cell_type": "code",
   "execution_count": 28,
   "id": "874e70e9-fb66-49a1-9e17-d6b73bbf6da7",
   "metadata": {},
   "outputs": [
    {
     "name": "stdout",
     "output_type": "stream",
     "text": [
      "[0.78378884 0.73733529 0.79564364 0.63209992 0.75177871]\n"
     ]
    }
   ],
   "source": [
    "print(scores)"
   ]
  },
  {
   "cell_type": "code",
   "execution_count": 29,
   "id": "b3d84582-2379-4dae-b6c1-68f88901dfb4",
   "metadata": {},
   "outputs": [],
   "source": [
    "# from sklearn.preprocessing import StandardScaler\n",
    "\n",
    "# scaler = StandardScaler()\n",
    "# X_scaled = scaler.fit_transform(independent)  # X is your features\n"
   ]
  },
  {
   "cell_type": "code",
   "execution_count": 30,
   "id": "0bb70a6b-6e8d-4ff3-b6a0-16213dc27d3c",
   "metadata": {},
   "outputs": [
    {
     "name": "stdout",
     "output_type": "stream",
     "text": [
      "Fold 0:\n",
      "  Train: index=[   0    1    2 ... 1335 1336 1337]\n",
      "  Test:  index=[  23   29   31   32   43   44   48   49   51   54   56   58   63   65\n",
      "   70   76   78   81   86  101  107  109  113  115  123  128  155  163\n",
      "  168  174  175  184  192  196  198  208  210  218  220  221  231  233\n",
      "  237  239  240  243  244  247  254  259  261  265  270  275  286  289\n",
      "  291  296  297  298  303  306  309  312  331  344  346  350  351  352\n",
      "  353  358  361  363  365  367  370  371  374  394  398  405  410  413\n",
      "  415  422  427  428  429  430  438  447  461  462  464  478  494  506\n",
      "  513  522  534  535  538  542  543  551  552  561  566  567  570  572\n",
      "  575  581  585  591  594  597  598  599  605  610  614  615  617  618\n",
      "  622  629  636  650  654  660  661  664  665  670  678  700  707  708\n",
      "  710  712  715  721  739  741  744  752  755  764  765  770  774  777\n",
      "  778  780  781  788  792  793  796  798  806  808  817  818  832  838\n",
      "  846  849  850  855  858  868  869  875  881  885  887  888  890  893\n",
      "  894  899  900  901  903  904  906  916  919  925  930  931  945  952\n",
      "  974  976  979  988  999 1015 1024 1032 1039 1043 1047 1048 1052 1055\n",
      " 1067 1073 1074 1078 1083 1092 1097 1098 1108 1114 1118 1119 1122 1127\n",
      " 1133 1135 1137 1143 1149 1167 1171 1175 1176 1182 1192 1202 1209 1212\n",
      " 1221 1227 1228 1235 1242 1246 1249 1253 1256 1263 1270 1271 1274 1280\n",
      " 1286 1293 1296 1298 1299 1302 1303 1309 1312 1314 1316 1321 1322 1323\n",
      " 1324 1327]\n",
      "Fold 1:\n",
      "  Train: index=[   0    1    4 ... 1335 1336 1337]\n",
      "  Test:  index=[   2    3    5    6   10   12   27   30   39   59   66   67   83   88\n",
      "   96  100  111  129  135  136  138  139  140  141  147  156  158  170\n",
      "  171  178  199  209  211  215  224  227  242  256  260  266  273  274\n",
      "  277  282  285  287  290  292  294  299  308  310  311  314  316  318\n",
      "  319  321  322  323  325  327  328  332  333  339  342  348  354  355\n",
      "  362  376  377  380  381  382  390  409  411  420  423  424  425  432\n",
      "  433  435  439  442  451  453  458  467  471  477  479  481  482  485\n",
      "  486  490  493  497  503  514  526  527  528  529  532  536  548  549\n",
      "  553  554  558  560  573  578  579  582  583  584  588  589  590  602\n",
      "  613  620  621  624  626  630  631  634  643  644  651  672  673  676\n",
      "  679  680  682  693  695  701  705  706  714  716  720  723  730  731\n",
      "  736  737  745  746  754  759  762  772  785  787  802  803  807  809\n",
      "  810  811  823  824  828  842  844  847  857  859  862  867  872  889\n",
      "  892  908  914  915  921  922  926  932  933  939  944  946  947  966\n",
      "  969  984  986  987  990  993 1005 1007 1008 1010 1022 1026 1030 1033\n",
      " 1034 1035 1037 1046 1057 1062 1075 1079 1085 1090 1093 1094 1103 1106\n",
      " 1111 1113 1115 1117 1128 1140 1141 1142 1148 1151 1155 1158 1159 1161\n",
      " 1163 1173 1185 1188 1197 1198 1201 1204 1205 1207 1219 1224 1232 1240\n",
      " 1243 1251 1264 1268 1277 1283 1285 1290 1295 1297 1311 1320 1328 1330\n",
      " 1333 1334]\n",
      "Fold 2:\n",
      "  Train: index=[   1    2    3 ... 1334 1336 1337]\n",
      "  Test:  index=[   0    7    9   24   25   28   33   38   41   45   47   55   60   62\n",
      "   69   71   72   73   77   79   80   82   84   90   92   94   97  104\n",
      "  106  108  110  118  120  125  131  132  133  137  142  144  145  148\n",
      "  162  164  165  169  172  173  177  181  182  183  185  193  194  204\n",
      "  212  213  214  223  226  228  234  235  238  248  249  250  251  255\n",
      "  258  280  281  300  302  305  307  326  329  334  336  338  347  357\n",
      "  359  360  364  366  372  373  386  388  389  404  408  414  421  436\n",
      "  440  445  448  449  450  457  460  465  468  475  480  483  491  495\n",
      "  499  501  504  505  507  516  518  519  523  525  530  531  533  539\n",
      "  541  545  557  568  587  593  596  609  628  638  649  652  657  666\n",
      "  667  668  671  677  692  697  704  711  713  718  722  724  727  732\n",
      "  743  756  767  771  783  799  812  813  814  816  820  826  839  843\n",
      "  845  852  861  864  873  879  882  886  898  909  910  912  918  924\n",
      "  934  936  938  940  941  942  948  949  953  958  962  963  964  965\n",
      "  967  968  970  978  982  985  996  997  998 1001 1004 1006 1011 1013\n",
      " 1029 1031 1036 1041 1042 1054 1058 1068 1070 1081 1087 1088 1089 1096\n",
      " 1099 1101 1102 1105 1107 1121 1132 1134 1144 1146 1150 1165 1166 1168\n",
      " 1169 1186 1193 1196 1203 1213 1216 1220 1234 1237 1244 1245 1247 1250\n",
      " 1266 1269 1273 1275 1278 1284 1287 1288 1289 1291 1306 1308 1319 1329\n",
      " 1331 1335]\n",
      "Fold 3:\n",
      "  Train: index=[   0    1    2 ... 1333 1334 1335]\n",
      "  Test:  index=[   4   11   15   17   18   19   22   35   36   42   46   50   52   57\n",
      "   61   68   74   75   85   89   93   99  102  105  114  116  117  119\n",
      "  124  126  127  149  153  154  159  167  176  179  180  188  190  191\n",
      "  195  203  217  222  232  236  245  257  263  264  267  268  271  272\n",
      "  278  284  301  304  313  320  324  335  340  341  349  356  368  369\n",
      "  375  383  393  395  396  399  407  412  416  417  419  426  431  434\n",
      "  443  444  446  454  456  470  473  487  489  496  498  500  511  512\n",
      "  515  517  521  537  544  547  555  559  569  571  574  576  580  595\n",
      "  601  603  604  606  607  611  616  619  625  633  635  637  653  655\n",
      "  656  662  669  674  675  684  685  688  689  690  691  694  696  703\n",
      "  717  726  728  733  734  735  738  740  750  753  757  758  760  761\n",
      "  768  773  782  784  786  789  790  801  819  822  825  827  829  830\n",
      "  833  834  836  837  841  848  851  853  865  866  874  876  884  895\n",
      "  902  905  907  911  917  920  923  927  935  937  943  950  961  971\n",
      "  973  977  980  983  989  991  992  994 1000 1002 1003 1009 1018 1023\n",
      " 1027 1040 1049 1050 1053 1061 1063 1065 1066 1077 1080 1084 1091 1110\n",
      " 1112 1116 1131 1139 1156 1157 1164 1170 1174 1177 1178 1179 1181 1189\n",
      " 1190 1191 1195 1199 1200 1206 1211 1214 1222 1223 1230 1233 1241 1254\n",
      " 1255 1258 1259 1276 1281 1282 1292 1307 1310 1313 1317 1326 1332 1336\n",
      " 1337]\n",
      "Fold 4:\n",
      "  Train: index=[   0    2    3 ... 1335 1336 1337]\n",
      "  Test:  index=[   1    8   13   14   16   20   21   26   34   37   40   53   64   87\n",
      "   91   95   98  103  112  121  122  130  134  143  146  150  151  152\n",
      "  157  160  161  166  186  187  189  197  200  201  202  205  206  207\n",
      "  216  219  225  229  230  241  246  252  253  262  269  276  279  283\n",
      "  288  293  295  315  317  330  337  343  345  378  379  384  385  387\n",
      "  391  392  397  400  401  402  403  406  418  437  441  452  455  459\n",
      "  463  466  469  472  474  476  484  488  492  502  508  509  510  520\n",
      "  524  540  546  550  556  562  563  564  565  577  586  592  600  608\n",
      "  612  623  627  632  639  640  641  642  645  646  647  648  658  659\n",
      "  663  681  683  686  687  698  699  702  709  719  725  729  742  747\n",
      "  748  749  751  763  766  769  775  776  779  791  794  795  797  800\n",
      "  804  805  815  821  831  835  840  854  856  860  863  870  871  877\n",
      "  878  880  883  891  896  897  913  928  929  951  954  955  956  957\n",
      "  959  960  972  975  981  995 1012 1014 1016 1017 1019 1020 1021 1025\n",
      " 1028 1038 1044 1045 1051 1056 1059 1060 1064 1069 1071 1072 1076 1082\n",
      " 1086 1095 1100 1104 1109 1120 1123 1124 1125 1126 1129 1130 1136 1138\n",
      " 1145 1147 1152 1153 1154 1160 1162 1172 1180 1183 1184 1187 1194 1208\n",
      " 1210 1215 1217 1218 1225 1226 1229 1231 1236 1238 1239 1248 1252 1257\n",
      " 1260 1261 1262 1265 1267 1272 1279 1294 1300 1301 1304 1305 1315 1318\n",
      " 1325]\n"
     ]
    }
   ],
   "source": [
    "for i, (train_index, test_index) in enumerate(kf.split(independent)):\n",
    "    print(f\"Fold {i}:\")\n",
    "    print(f\"  Train: index={train_index}\")\n",
    "    print(f\"  Test:  index={test_index}\")"
   ]
  },
  {
   "cell_type": "code",
   "execution_count": 31,
   "id": "761e5a1d-a439-47f1-a2ef-2a60b131489b",
   "metadata": {},
   "outputs": [],
   "source": [
    "import numpy as np\n",
    "from sklearn.metrics import mean_squared_error, r2_score"
   ]
  },
  {
   "cell_type": "code",
   "execution_count": 32,
   "id": "c58c73bb-56e6-455b-bb16-ce4f9063f7c0",
   "metadata": {},
   "outputs": [
    {
     "name": "stdout",
     "output_type": "stream",
     "text": [
      "Fold 1: RMSE = 5793.655, R² = 0.784\n",
      "Fold 2: RMSE = 6127.096, R² = 0.737\n",
      "Fold 3: RMSE = 5782.922, R² = 0.796\n",
      "Fold 4: RMSE = 6449.611, R² = 0.632\n",
      "Fold 5: RMSE = 6234.856, R² = 0.752\n"
     ]
    }
   ],
   "source": [
    "for i, (train_index, test_index) in enumerate(kf.split(independent)):\n",
    "    X_train, X_test = independent.iloc[train_index], independent.iloc[test_index]\n",
    "    y_train, y_test = dependent.iloc[train_index], dependent.iloc[test_index]\n",
    "\n",
    "    regressor.fit(X_train, y_train)\n",
    "    preds = regressor.predict(X_test)\n",
    "\n",
    "    rmse = np.sqrt(mean_squared_error(y_test, preds))\n",
    "    r2 = r2_score(y_test, preds)\n",
    "\n",
    "    print(f\"Fold {i + 1}: RMSE = {rmse:.3f}, R² = {r2:.3f}\")"
   ]
  },
  {
   "cell_type": "code",
   "execution_count": 33,
   "id": "617ff4b9-e452-424b-a465-e7997216d871",
   "metadata": {},
   "outputs": [
    {
     "data": {
      "text/plain": [
       "(1071, 8)"
      ]
     },
     "execution_count": 33,
     "metadata": {},
     "output_type": "execute_result"
    }
   ],
   "source": [
    "X_train.shape"
   ]
  },
  {
   "cell_type": "code",
   "execution_count": 34,
   "id": "e0cac578-06eb-481d-a9f4-874c1a18c0ea",
   "metadata": {},
   "outputs": [
    {
     "data": {
      "text/plain": [
       "(267,)"
      ]
     },
     "execution_count": 34,
     "metadata": {},
     "output_type": "execute_result"
    }
   ],
   "source": [
    "y_test.shape"
   ]
  },
  {
   "cell_type": "code",
   "execution_count": 21,
   "id": "c3f4f2b7-bd9d-4643-b665-e3a927289005",
   "metadata": {},
   "outputs": [
    {
     "data": {
      "text/plain": [
       "0.7513153262752835"
      ]
     },
     "execution_count": 21,
     "metadata": {},
     "output_type": "execute_result"
    }
   ],
   "source": [
    "from sklearn.metrics import mean_squared_error, r2_score\n",
    "rmse = np.sqrt(mean_squared_error(y_test, preds))\n",
    "r2 = r2_score(y_test, preds)\n",
    "r2"
   ]
  },
  {
   "cell_type": "code",
   "execution_count": 37,
   "id": "1e67328b-fdd1-4433-b347-6665cafcf9df",
   "metadata": {},
   "outputs": [
    {
     "name": "stderr",
     "output_type": "stream",
     "text": [
      "C:\\Users\\jsril\\anaconda3\\envs\\numpy_env\\lib\\site-packages\\sklearn\\utils\\validation.py:2739: UserWarning: X does not have valid feature names, but LinearRegression was fitted with feature names\n",
      "  warnings.warn(\n"
     ]
    },
    {
     "data": {
      "text/plain": [
       "array([24888.94702071])"
      ]
     },
     "execution_count": 37,
     "metadata": {},
     "output_type": "execute_result"
    }
   ],
   "source": [
    "s = regressor.predict([[19,27,0,0,1,0,0,1]])\n",
    "s"
   ]
  },
  {
   "cell_type": "code",
   "execution_count": null,
   "id": "a1eb9588-72fe-44ae-8e6c-23994b2600fe",
   "metadata": {},
   "outputs": [],
   "source": []
  }
 ],
 "metadata": {
  "kernelspec": {
   "display_name": "Python (numpy_env)",
   "language": "python",
   "name": "numpy_env"
  },
  "language_info": {
   "codemirror_mode": {
    "name": "ipython",
    "version": 3
   },
   "file_extension": ".py",
   "mimetype": "text/x-python",
   "name": "python",
   "nbconvert_exporter": "python",
   "pygments_lexer": "ipython3",
   "version": "3.10.16"
  }
 },
 "nbformat": 4,
 "nbformat_minor": 5
}
